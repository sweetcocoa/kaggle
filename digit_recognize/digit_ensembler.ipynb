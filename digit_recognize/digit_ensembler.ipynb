{
 "cells": [
  {
   "cell_type": "code",
   "execution_count": 1,
   "metadata": {
    "collapsed": true
   },
   "outputs": [],
   "source": [
    "import torch\n",
    "from torch.autograd import Variable\n",
    "import torchvision\n",
    "import torch.nn as nn\n",
    "import torch.optim as optim\n",
    "from torchvision import transforms, datasets\n",
    "from collections import OrderedDict\n",
    "import numpy as np\n",
    "import matplotlib.pyplot as plt\n",
    "from tqdm import tqdm\n",
    "from torch.utils import data\n",
    "import argparse"
   ]
  },
  {
   "cell_type": "code",
   "execution_count": 2,
   "metadata": {
    "collapsed": true
   },
   "outputs": [],
   "source": [
    "class DigitCNN(nn.Module):\n",
    "    def __init__(self):\n",
    "        super(DigitCNN, self).__init__()\n",
    "        self.convnet = nn.Sequential(OrderedDict(\n",
    "            [\n",
    "                ('layer 1', nn.Conv2d(1, 10, 5)),\n",
    "                # ('layer 1', nn.Conv2d(1, 3, 5)),\n",
    "                ('relu 1', nn.ReLU()), # 10 * 24 * 24\n",
    "                ('maxpool 1', nn.MaxPool2d(2, stride=2)), # 3 * 12 * 12\n",
    "                ('dropout 1', nn.Dropout2d(p=0.2)),\n",
    "                ('batchnorm 1', nn.BatchNorm2d(10)),\n",
    "                ('layer 2', nn.Conv2d(10, 20, kernel_size=5)), # 5 * 8 * 8\n",
    "                # ('layer 2', nn.Conv2d(3, 5, kernel_size=5)),  # 5 * 8 * 8\n",
    "                ('relu 2', nn.ReLU()),\n",
    "                ('maxpool 2', nn.MaxPool2d(2, stride=2)), # 5 * 4 * 4\n",
    "                ('dropout 2', nn.Dropout2d(p=0.2)),\n",
    "            ]\n",
    "        ))\n",
    "        self.fcn = nn.Sequential(OrderedDict(\n",
    "        [\n",
    "            ('linear 1', nn.Linear(320, 150)),\n",
    "            # ('linear 1', nn.Linear(80, 160)),\n",
    "            ('relu 3', nn.ReLU()),\n",
    "            ('linear 2', nn.Linear(150, 10)),\n",
    "        ]))\n",
    "\n",
    "    def forward(self, x):\n",
    "        conv = self.convnet(x)\n",
    "        lin = conv.view(-1, 320)\n",
    "        return self.fcn(lin)\n"
   ]
  },
  {
   "cell_type": "code",
   "execution_count": 3,
   "metadata": {},
   "outputs": [],
   "source": [
    "checkpoint_nets = []\n",
    "for i in range(5):\n",
    "    checkpoint = torch.load(\"best_\"+str(i)+\"checkpoint.pth.tar\")\n",
    "    net = DigitCNN()\n",
    "    net.load_state_dict(checkpoint['state_dict'])\n",
    "    checkpoint_nets.append(net)\n"
   ]
  },
  {
   "cell_type": "code",
   "execution_count": 4,
   "metadata": {
    "collapsed": true
   },
   "outputs": [],
   "source": [
    "optimizer = nn.CrossEntropyLoss()"
   ]
  },
  {
   "cell_type": "code",
   "execution_count": 5,
   "metadata": {
    "collapsed": true
   },
   "outputs": [],
   "source": [
    "test_original_data = np.genfromtxt('test.csv', delimiter=',', dtype=np.float32)"
   ]
  },
  {
   "cell_type": "code",
   "execution_count": 6,
   "metadata": {
    "collapsed": true
   },
   "outputs": [],
   "source": [
    "test_images = test_original_data[1:, :]"
   ]
  },
  {
   "cell_type": "code",
   "execution_count": 7,
   "metadata": {
    "collapsed": true
   },
   "outputs": [],
   "source": [
    "test_images_normalized = (test_images - test_images.mean()) / test_images.std()\n",
    "test_dataloader = data.DataLoader(torch.FloatTensor(test_images_normalized), batch_size=64)\n"
   ]
  },
  {
   "cell_type": "code",
   "execution_count": 8,
   "metadata": {
    "collapsed": true
   },
   "outputs": [],
   "source": [
    "test_labels = []"
   ]
  },
  {
   "cell_type": "code",
   "execution_count": 9,
   "metadata": {},
   "outputs": [],
   "source": [
    "for i, image in enumerate(test_dataloader):    \n",
    "    show_images = image.numpy()\n",
    "    image = image.view(-1, 1, 28, 28)\n",
    "    var_image = Variable(image)\n",
    "    predictions = []\n",
    "    for net in checkpoint_nets:\n",
    "        prediction = net(var_image)\n",
    "        res = torch.max(prediction, 1)[1].data.numpy()\n",
    "        predictions.append(res)\n",
    "    predictions = np.array(predictions)\n",
    "    predictions = np.transpose(predictions)\n",
    "    for res in predictions:\n",
    "        max_num, max_cnt = 0, 0\n",
    "        for i in range(10):\n",
    "            num_pred_i = np.count_nonzero(res == i)\n",
    "            if max_cnt < num_pred_i:\n",
    "                max_num = i\n",
    "                max_cnt = num_pred_i\n",
    "#         print(res, max_num)\n",
    "        test_labels.append(max_num)\n",
    "        \n",
    "                \n",
    "            "
   ]
  },
  {
   "cell_type": "code",
   "execution_count": 10,
   "metadata": {
    "collapsed": true
   },
   "outputs": [],
   "source": [
    "import pandas as pd"
   ]
  },
  {
   "cell_type": "code",
   "execution_count": 11,
   "metadata": {
    "collapsed": true
   },
   "outputs": [],
   "source": [
    "submission = pd.DataFrame(data=test_labels, index=range(1, len(test_labels)+1))"
   ]
  },
  {
   "cell_type": "code",
   "execution_count": 12,
   "metadata": {},
   "outputs": [],
   "source": [
    "submission = submission.rename(index=str, columns={0:'Labels'})\n",
    "submission.index.name = 'ImageId'"
   ]
  },
  {
   "cell_type": "code",
   "execution_count": 13,
   "metadata": {
    "collapsed": true
   },
   "outputs": [],
   "source": [
    "submission.to_csv('./submission.csv')"
   ]
  },
  {
   "cell_type": "code",
   "execution_count": null,
   "metadata": {
    "collapsed": true
   },
   "outputs": [],
   "source": []
  },
  {
   "cell_type": "code",
   "execution_count": null,
   "metadata": {
    "collapsed": true
   },
   "outputs": [],
   "source": []
  },
  {
   "cell_type": "code",
   "execution_count": null,
   "metadata": {
    "collapsed": true
   },
   "outputs": [],
   "source": []
  },
  {
   "cell_type": "code",
   "execution_count": null,
   "metadata": {
    "collapsed": true
   },
   "outputs": [],
   "source": []
  }
 ],
 "metadata": {
  "kernelspec": {
   "display_name": "Python [conda env:tf_recsys]",
   "language": "python",
   "name": "conda-env-tf_recsys-py"
  },
  "language_info": {
   "codemirror_mode": {
    "name": "ipython",
    "version": 3
   },
   "file_extension": ".py",
   "mimetype": "text/x-python",
   "name": "python",
   "nbconvert_exporter": "python",
   "pygments_lexer": "ipython3",
   "version": "3.5.4"
  }
 },
 "nbformat": 4,
 "nbformat_minor": 2
}
